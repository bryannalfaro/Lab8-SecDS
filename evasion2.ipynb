{
 "cells": [
  {
   "cell_type": "code",
   "execution_count": 1,
   "metadata": {},
   "outputs": [],
   "source": [
    "#Referencia : Codigo brindado en clase\n",
    "#Integrantes : Bryann Alfaro, Raul Jimenez, Donaldo Garcia"
   ]
  },
  {
   "cell_type": "code",
   "execution_count": 2,
   "metadata": {},
   "outputs": [
    {
     "name": "stderr",
     "output_type": "stream",
     "text": [
      "c:\\Users\\raula\\Documents\\RAUL_ANGEL\\UVG_COMPU\\NOVENO_SEMESTRE\\SECURITY-DATA-SCIENCE\\venv\\lib\\site-packages\\tqdm\\auto.py:22: TqdmWarning: IProgress not found. Please update jupyter and ipywidgets. See https://ipywidgets.readthedocs.io/en/stable/user_install.html\n",
      "  from .autonotebook import tqdm as notebook_tqdm\n",
      "c:\\Users\\raula\\Documents\\RAUL_ANGEL\\UVG_COMPU\\NOVENO_SEMESTRE\\SECURITY-DATA-SCIENCE\\venv\\lib\\site-packages\\art\\estimators\\certification\\__init__.py:14: UserWarning: PyTorch not found. Not importing DeepZ or Interval Bound Propagation functionality\n",
      "  warnings.warn(\"PyTorch not found. Not importing DeepZ or Interval Bound Propagation functionality\")\n"
     ]
    }
   ],
   "source": [
    "import tensorflow as tf\n",
    "from tensorflow.keras.layers import Conv2D, MaxPool2D, Dense, Flatten\n",
    "import numpy as np\n",
    "import matplotlib.pyplot as plt\n",
    "import matplotlib\n",
    "from art.estimators.classification import KerasClassifier #No soporta TF 2\n",
    "from art.utils import load_dataset\n",
    "\n",
    "\n",
    "tf.compat.v1.disable_eager_execution()"
   ]
  },
  {
   "cell_type": "code",
   "execution_count": 3,
   "metadata": {},
   "outputs": [],
   "source": [
    "#Load the model \n",
    "model1 = tf.keras.models.load_model('modelo_lab')"
   ]
  },
  {
   "cell_type": "code",
   "execution_count": null,
   "metadata": {},
   "outputs": [],
   "source": []
  },
  {
   "attachments": {},
   "cell_type": "markdown",
   "metadata": {},
   "source": [
    "Getting the data again to evasion"
   ]
  },
  {
   "cell_type": "code",
   "execution_count": 4,
   "metadata": {},
   "outputs": [],
   "source": [
    "import os\n",
    "import pandas as pd\n",
    "from PIL import Image\n",
    "import numpy as np\n",
    "import matplotlib.pyplot as plt\n",
    "\n",
    "%matplotlib inline"
   ]
  },
  {
   "cell_type": "code",
   "execution_count": 5,
   "metadata": {},
   "outputs": [
    {
     "data": {
      "text/html": [
       "<div>\n",
       "<style scoped>\n",
       "    .dataframe tbody tr th:only-of-type {\n",
       "        vertical-align: middle;\n",
       "    }\n",
       "\n",
       "    .dataframe tbody tr th {\n",
       "        vertical-align: top;\n",
       "    }\n",
       "\n",
       "    .dataframe thead th {\n",
       "        text-align: right;\n",
       "    }\n",
       "</style>\n",
       "<table border=\"1\" class=\"dataframe\">\n",
       "  <thead>\n",
       "    <tr style=\"text-align: right;\">\n",
       "      <th></th>\n",
       "      <th>Family</th>\n",
       "      <th>Image</th>\n",
       "      <th>Name</th>\n",
       "      <th>Family_cat</th>\n",
       "    </tr>\n",
       "  </thead>\n",
       "  <tbody>\n",
       "    <tr>\n",
       "      <th>0</th>\n",
       "      <td>Adialer.C</td>\n",
       "      <td>[[2, 3, 0, 7, 1, 1, 0, 2, 12, 13, 15, 9, 12, 1...</td>\n",
       "      <td>000bde2e9a94ba41c0c111ffd80647c2.png</td>\n",
       "      <td>0.0</td>\n",
       "    </tr>\n",
       "    <tr>\n",
       "      <th>1</th>\n",
       "      <td>Adialer.C</td>\n",
       "      <td>[[2, 14, 2, 0, 0, 0, 4, 4, 11, 6, 12, 20, 9, 1...</td>\n",
       "      <td>000e30a0819ac7ed931d629ce2ef8948.png</td>\n",
       "      <td>0.0</td>\n",
       "    </tr>\n",
       "    <tr>\n",
       "      <th>2</th>\n",
       "      <td>Adialer.C</td>\n",
       "      <td>[[2, 14, 2, 0, 0, 0, 5, 6, 11, 6, 12, 20, 9, 1...</td>\n",
       "      <td>002f06eff1d222560939be72583d6ae9.png</td>\n",
       "      <td>0.0</td>\n",
       "    </tr>\n",
       "    <tr>\n",
       "      <th>3</th>\n",
       "      <td>Adialer.C</td>\n",
       "      <td>[[2, 3, 0, 6, 1, 0, 0, 2, 13, 13, 15, 9, 12, 1...</td>\n",
       "      <td>0044f0746b812f6b454ce210bc58c572.png</td>\n",
       "      <td>0.0</td>\n",
       "    </tr>\n",
       "    <tr>\n",
       "      <th>4</th>\n",
       "      <td>Adialer.C</td>\n",
       "      <td>[[2, 3, 0, 6, 1, 0, 0, 2, 12, 13, 15, 9, 12, 1...</td>\n",
       "      <td>0046a83d932a3d431eb21a99b46d6af7.png</td>\n",
       "      <td>0.0</td>\n",
       "    </tr>\n",
       "  </tbody>\n",
       "</table>\n",
       "</div>"
      ],
      "text/plain": [
       "      Family                                              Image  \\\n",
       "0  Adialer.C  [[2, 3, 0, 7, 1, 1, 0, 2, 12, 13, 15, 9, 12, 1...   \n",
       "1  Adialer.C  [[2, 14, 2, 0, 0, 0, 4, 4, 11, 6, 12, 20, 9, 1...   \n",
       "2  Adialer.C  [[2, 14, 2, 0, 0, 0, 5, 6, 11, 6, 12, 20, 9, 1...   \n",
       "3  Adialer.C  [[2, 3, 0, 6, 1, 0, 0, 2, 13, 13, 15, 9, 12, 1...   \n",
       "4  Adialer.C  [[2, 3, 0, 6, 1, 0, 0, 2, 12, 13, 15, 9, 12, 1...   \n",
       "\n",
       "                                   Name  Family_cat  \n",
       "0  000bde2e9a94ba41c0c111ffd80647c2.png         0.0  \n",
       "1  000e30a0819ac7ed931d629ce2ef8948.png         0.0  \n",
       "2  002f06eff1d222560939be72583d6ae9.png         0.0  \n",
       "3  0044f0746b812f6b454ce210bc58c572.png         0.0  \n",
       "4  0046a83d932a3d431eb21a99b46d6af7.png         0.0  "
      ]
     },
     "execution_count": 5,
     "metadata": {},
     "output_type": "execute_result"
    }
   ],
   "source": [
    "# crea un dataframe a partir de las carpetas dentro de \"malimg_dataset\" y sus archivos .bytes\n",
    "df = pd.DataFrame(columns=['Family', 'Image'])\n",
    "fam_cat = {}\n",
    "for i, family in enumerate(os.listdir('malimg_dataset')):\n",
    "    fam_cat[i] = family\n",
    "    for image in os.listdir(f'malimg_dataset/{family}'):\n",
    "        imagen = Image.open(f'malimg_dataset/{family}/{image}')\n",
    "        imagen = imagen.resize((64,64))\n",
    "        # new_row = {'Family': family, 'Name': image, 'Family_cat': i ,'Image': np.array(imagen).tolist()}\n",
    "        # df = pd.concat([df, pd.DataFrame(new_row, index=[0])], ignore_index=True)\n",
    "        new_data = {'Family': [family], 'Name': [image], 'Family_cat': [i], 'Image': [np.array(imagen).tolist()]}\n",
    "        new_df = pd.DataFrame(new_data)\n",
    "        df = pd.concat([df, new_df], ignore_index=True)\n",
    "# for family in os.listdir('malimg_dataset'):\n",
    "#     for image in os.listdir(f'malimg_dataset/{family}'):\n",
    "#         imagen = Image.open(f'malimg_dataset/{family}/{image}')\n",
    "#         imagen = imagen.resize((50,50))\n",
    "#         #make the array of the image with 50x50 without numpy\n",
    "#         #df = df.append({'Family': family, 'Name': image, 'Image': imagen}, ignore_index=True)\n",
    "#         df = df.append({'Family': family, 'Name': image, 'Image': np.array(imagen).tolist()}, ignore_index=True)\n",
    "#         #make the array of the image with 50x50\n",
    "        \n",
    "\n",
    "# muestra las primeras 5 filas del dataframe\n",
    "df.head()"
   ]
  },
  {
   "cell_type": "code",
   "execution_count": 6,
   "metadata": {},
   "outputs": [
    {
     "data": {
      "text/plain": [
       "Family\n",
       "Allaple.A         2949\n",
       "Allaple.L         1591\n",
       "Yuner.A            800\n",
       "Instantaccess      431\n",
       "VB.AT              408\n",
       "Fakerean           381\n",
       "Lolyda.AA1         213\n",
       "C2LOP.gen!g        200\n",
       "Alueron.gen!J      198\n",
       "Lolyda.AA2         184\n",
       "Dialplatform.B     177\n",
       "Dontovo.A          162\n",
       "Lolyda.AT          159\n",
       "Rbot!gen           158\n",
       "dtype: int64"
      ]
     },
     "execution_count": 6,
     "metadata": {},
     "output_type": "execute_result"
    }
   ],
   "source": [
    "# removemos las familias con menos de 150 muestras del dataset\n",
    "df = df[df['Family'].isin(df['Family'].value_counts()[df['Family'].value_counts() > 150].index)]\n",
    "df.value_counts('Family')"
   ]
  },
  {
   "cell_type": "code",
   "execution_count": 7,
   "metadata": {},
   "outputs": [
    {
     "data": {
      "text/plain": [
       "array([[[ 78,  36,  42, ...,  44,  52,  42],\n",
       "        [ 98, 131, 112, ..., 149, 124, 125],\n",
       "        [123, 136, 136, ..., 143, 122, 117],\n",
       "        ...,\n",
       "        [109, 122, 121, ..., 120, 116, 103],\n",
       "        [123, 127, 131, ..., 129, 153, 142],\n",
       "        [114, 101, 103, ...,  89,  96,  81]],\n",
       "\n",
       "       [[ 55,  32,  44, ...,  38,  44,  34],\n",
       "        [100, 125, 137, ...,  99, 105, 125],\n",
       "        [129, 147, 137, ..., 123, 113, 116],\n",
       "        ...,\n",
       "        [138, 114, 142, ..., 118, 120, 118],\n",
       "        [143, 109, 122, ..., 125, 133, 127],\n",
       "        [115, 136, 141, ..., 109, 139, 127]],\n",
       "\n",
       "       [[ 98,  88,  69, ...,  80,  82,  97],\n",
       "        [136, 117, 118, ..., 136, 128, 133],\n",
       "        [120, 103,  99, ..., 101,  90, 105],\n",
       "        ...,\n",
       "        [ 91, 101,  77, ...,  96,  78,  64],\n",
       "        [ 45,  38,  35, ...,  49,  24,  20],\n",
       "        [ 29,  46,  54, ...,  40,  39,  41]],\n",
       "\n",
       "       ...,\n",
       "\n",
       "       [[ 57,  40,  39, ...,  55,  64,  40],\n",
       "        [125, 123, 117, ..., 111, 134, 146],\n",
       "        [120, 128, 107, ..., 119, 119, 142],\n",
       "        ...,\n",
       "        [131, 118, 117, ..., 138, 141, 112],\n",
       "        [122, 124, 151, ..., 118, 123, 126],\n",
       "        [136, 128, 166, ..., 141, 138, 148]],\n",
       "\n",
       "       [[ 91,  88,  95, ...,  93, 110,  92],\n",
       "        [ 97, 110,  99, ..., 105, 101,  93],\n",
       "        [114,  96,  93, ..., 108, 101,  98],\n",
       "        ...,\n",
       "        [108, 104,  57, ...,  85,  91,  97],\n",
       "        [ 65,  60,  73, ...,  60,  56,  59],\n",
       "        [137, 126, 127, ..., 123, 128, 126]],\n",
       "\n",
       "       [[ 91,  88,  95, ...,  93, 110,  92],\n",
       "        [ 97, 110,  99, ..., 105, 101,  93],\n",
       "        [114,  96,  93, ..., 108, 101,  98],\n",
       "        ...,\n",
       "        [108, 104,  57, ...,  85,  91,  97],\n",
       "        [ 65,  60,  73, ...,  60,  56,  59],\n",
       "        [137, 126, 127, ..., 123, 128, 126]]])"
      ]
     },
     "execution_count": 7,
     "metadata": {},
     "output_type": "execute_result"
    }
   ],
   "source": [
    "#Dividir el dataset\n",
    "from sklearn.model_selection import train_test_split\n",
    "X = df['Image'].values\n",
    "y = df['Family_cat'].values\n",
    "#convert X to numpy array and inside with simple list\n",
    "X = np.array([np.array(xi) for xi in X])\n",
    "\n",
    "X_train, X_test, y_train, y_test = train_test_split(X, y, test_size=0.2, random_state=42)\n",
    "\n",
    "#Normalizar los datos\n",
    "X_train"
   ]
  },
  {
   "cell_type": "code",
   "execution_count": 8,
   "metadata": {},
   "outputs": [],
   "source": [
    "#Normalizar los datos\n",
    "X_train = X_train/255\n",
    "X_test = X_test/255"
   ]
  },
  {
   "cell_type": "code",
   "execution_count": 9,
   "metadata": {},
   "outputs": [
    {
     "data": {
      "text/plain": [
       "0.7098039215686275"
      ]
     },
     "execution_count": 9,
     "metadata": {},
     "output_type": "execute_result"
    },
    {
     "data": {
      "image/png": "[encoded data removed]",
      "text/plain": [
       "<Figure size 640x480 with 1 Axes>"
      ]
     },
     "metadata": {},
     "output_type": "display_data"
    }
   ],
   "source": [
    "#Mostrar una imagen\n",
    "plt.imshow(X_train[0])\n",
    "#mostrar la normalizacion\n",
    "X_train[0].max()"
   ]
  },
  {
   "cell_type": "code",
   "execution_count": 10,
   "metadata": {},
   "outputs": [],
   "source": [
    "classifier = KerasClassifier(\n",
    "    model=model1,\n",
    "clip_values= (0.0,1.0))"
   ]
  },
  {
   "attachments": {},
   "cell_type": "markdown",
   "metadata": {},
   "source": [
    "# Ataque"
   ]
  },
  {
   "cell_type": "code",
   "execution_count": 11,
   "metadata": {},
   "outputs": [],
   "source": [
    "from art.attacks.evasion import SquareAttack"
   ]
  },
  {
   "cell_type": "code",
   "execution_count": 12,
   "metadata": {},
   "outputs": [],
   "source": [
    "attack_auto =SquareAttack(\n",
    "    estimator=classifier, \n",
    "    eps=0.15\n",
    "    )"
   ]
  },
  {
   "cell_type": "code",
   "execution_count": 13,
   "metadata": {},
   "outputs": [],
   "source": [
    "X_train = X_train.reshape(6408, 64, 64, 1)\n",
    "X_test = X_test.reshape(1603, 64, 64, 1)"
   ]
  },
  {
   "cell_type": "code",
   "execution_count": 14,
   "metadata": {},
   "outputs": [
    {
     "name": "stderr",
     "output_type": "stream",
     "text": [
      "c:\\Users\\raula\\Documents\\RAUL_ANGEL\\UVG_COMPU\\NOVENO_SEMESTRE\\SECURITY-DATA-SCIENCE\\venv\\lib\\site-packages\\keras\\engine\\training_v1.py:2359: UserWarning: `Model.state_updates` will be removed in a future version. This property should not be used in TensorFlow 2.0, as `updates` are applied automatically.\n",
      "  updates=self.state_updates,\n",
      "SquareAttack - restarts: 100%|██████████| 1/1 [02:50<00:00, 170.86s/it]\n"
     ]
    }
   ],
   "source": [
    "test_images_adv = attack_auto.generate(x=X_test)"
   ]
  },
  {
   "cell_type": "code",
   "execution_count": 15,
   "metadata": {},
   "outputs": [],
   "source": [
    "from tensorflow.keras.utils import to_categorical"
   ]
  },
  {
   "cell_type": "code",
   "execution_count": 16,
   "metadata": {},
   "outputs": [],
   "source": [
    "categorical_y_entrenamiento = to_categorical(y_train, 25)\n",
    "categorical_y_test = to_categorical(y_test, 25)"
   ]
  },
  {
   "cell_type": "code",
   "execution_count": 17,
   "metadata": {},
   "outputs": [
    {
     "name": "stderr",
     "output_type": "stream",
     "text": [
      "c:\\Users\\raula\\Documents\\RAUL_ANGEL\\UVG_COMPU\\NOVENO_SEMESTRE\\SECURITY-DATA-SCIENCE\\venv\\lib\\site-packages\\keras\\engine\\training_v1.py:2335: UserWarning: `Model.state_updates` will be removed in a future version. This property should not be used in TensorFlow 2.0, as `updates` are applied automatically.\n",
      "  updates = self.state_updates\n"
     ]
    },
    {
     "name": "stdout",
     "output_type": "stream",
     "text": [
      "Clean test set loss: 0.02 vs adversarial set test loss: 0.62\n",
      "Clean test set accuracy: 0.99626 vs adversarial test set accuracy: 0.55209\n"
     ]
    }
   ],
   "source": [
    "#Evaluar los modelos\n",
    "score_clean = model1.evaluate(\n",
    "    x=X_test, \n",
    "    y=categorical_y_test\n",
    "    )\n",
    "\n",
    "# Con adversarial\n",
    "score_adv = model1.evaluate(\n",
    "    x=test_images_adv, \n",
    "    y=categorical_y_test\n",
    "    )\n",
    "\n",
    "# Comparing test losses\n",
    "print(f\"Clean test set loss: {score_clean[0]:.2f} \" \n",
    "      f\"vs adversarial set test loss: {score_adv[0]:.2f}\")\n",
    "\n",
    "# Comparing test accuracies\n",
    "print(f\"Clean test set accuracy: {score_clean[1]:.5f} \" \n",
    "      f\"vs adversarial test set accuracy: {score_adv[1]:.5f}\")"
   ]
  },
  {
   "attachments": {},
   "cell_type": "markdown",
   "metadata": {},
   "source": [
    "# Defensa"
   ]
  },
  {
   "cell_type": "code",
   "execution_count": null,
   "metadata": {},
   "outputs": [],
   "source": []
  }
 ],
 "metadata": {
  "kernelspec": {
   "display_name": "Python 3 (ipykernel)",
   "language": "python",
   "name": "python3"
  },
  "language_info": {
   "codemirror_mode": {
    "name": "ipython",
    "version": 3
   },
   "file_extension": ".py",
   "mimetype": "text/x-python",
   "name": "python",
   "nbconvert_exporter": "python",
   "pygments_lexer": "ipython3",
   "version": "3.10.11"
  }
 },
 "nbformat": 4,
 "nbformat_minor": 2
}

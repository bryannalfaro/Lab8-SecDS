{
 "cells": [
  {
   "cell_type": "code",
   "execution_count": 41,
   "metadata": {},
   "outputs": [],
   "source": [
    "#Referencia : Codigo brindado en clase\n",
    "#Integrantes : Bryann Alfaro, Raul Jimenez, Donaldo Garcia"
   ]
  },
  {
   "cell_type": "code",
   "execution_count": 42,
   "metadata": {},
   "outputs": [],
   "source": [
    "import tensorflow as tf\n",
    "from tensorflow.keras.layers import Conv2D, MaxPool2D, Dense, Flatten\n",
    "import numpy as np\n",
    "import matplotlib.pyplot as plt\n",
    "import matplotlib\n",
    "from art.estimators.classification import KerasClassifier #No soporta TF 2\n",
    "from art.utils import load_dataset\n",
    "\n",
    "import os\n",
    "import pandas as pd\n",
    "from PIL import Image\n",
    "import numpy as np\n",
    "import matplotlib.pyplot as plt\n",
    "\n",
    "%matplotlib inline\n",
    "tf.compat.v1.disable_eager_execution()"
   ]
  },
  {
   "cell_type": "code",
   "execution_count": 43,
   "metadata": {},
   "outputs": [
    {
     "name": "stderr",
     "output_type": "stream",
     "text": [
      "2023-05-23 23:13:04.079089: W tensorflow/c/c_api.cc:300] Operation '{name:'AssignVariableOp_52' id:714 op device:{requested: '/device:CPU:0', assigned: ''} def:{{{node AssignVariableOp_52}} = AssignVariableOp[_has_manual_control_dependencies=true, dtype=DT_FLOAT, validate_shape=false, _device=\"/device:CPU:0\"](kernel_7, Identity_52)}}' was changed by setting attribute after it was run by a session. This mutation will have no effect, and will trigger an error in the future. Either don't modify nodes after running them or create a new session.\n"
     ]
    }
   ],
   "source": [
    "#Load the model \n",
    "model1 = tf.keras.models.load_model('modelo_lab')"
   ]
  },
  {
   "cell_type": "code",
   "execution_count": 44,
   "metadata": {},
   "outputs": [
    {
     "data": {
      "text/html": [
       "<div>\n",
       "<style scoped>\n",
       "    .dataframe tbody tr th:only-of-type {\n",
       "        vertical-align: middle;\n",
       "    }\n",
       "\n",
       "    .dataframe tbody tr th {\n",
       "        vertical-align: top;\n",
       "    }\n",
       "\n",
       "    .dataframe thead th {\n",
       "        text-align: right;\n",
       "    }\n",
       "</style>\n",
       "<table border=\"1\" class=\"dataframe\">\n",
       "  <thead>\n",
       "    <tr style=\"text-align: right;\">\n",
       "      <th></th>\n",
       "      <th>Family</th>\n",
       "      <th>Image</th>\n",
       "      <th>Name</th>\n",
       "      <th>Family_cat</th>\n",
       "    </tr>\n",
       "  </thead>\n",
       "  <tbody>\n",
       "    <tr>\n",
       "      <th>0</th>\n",
       "      <td>Swizzor.gen!I</td>\n",
       "      <td>[[96, 88, 90, 92, 98, 94, 99, 92, 98, 113, 104...</td>\n",
       "      <td>08a62d426b935575116ebb121d0e317a.png</td>\n",
       "      <td>0.0</td>\n",
       "    </tr>\n",
       "    <tr>\n",
       "      <th>1</th>\n",
       "      <td>Swizzor.gen!I</td>\n",
       "      <td>[[104, 104, 92, 95, 89, 85, 88, 99, 89, 100, 9...</td>\n",
       "      <td>070bedcb9eab0c49867fcb70a4d1ddbf.png</td>\n",
       "      <td>0.0</td>\n",
       "    </tr>\n",
       "    <tr>\n",
       "      <th>2</th>\n",
       "      <td>Swizzor.gen!I</td>\n",
       "      <td>[[104, 86, 84, 89, 103, 94, 118, 110, 109, 105...</td>\n",
       "      <td>0757a054287b442f97ea305706d9e07d.png</td>\n",
       "      <td>0.0</td>\n",
       "    </tr>\n",
       "    <tr>\n",
       "      <th>3</th>\n",
       "      <td>Swizzor.gen!I</td>\n",
       "      <td>[[107, 101, 97, 93, 99, 92, 92, 83, 90, 91, 80...</td>\n",
       "      <td>03e44bfcc48724222558c4c09c8a025f.png</td>\n",
       "      <td>0.0</td>\n",
       "    </tr>\n",
       "    <tr>\n",
       "      <th>4</th>\n",
       "      <td>Swizzor.gen!I</td>\n",
       "      <td>[[92, 92, 77, 63, 76, 76, 79, 88, 94, 100, 89,...</td>\n",
       "      <td>04280e457fadccc4a239f2d3208f8609.png</td>\n",
       "      <td>0.0</td>\n",
       "    </tr>\n",
       "  </tbody>\n",
       "</table>\n",
       "</div>"
      ],
      "text/plain": [
       "          Family                                              Image   \n",
       "0  Swizzor.gen!I  [[96, 88, 90, 92, 98, 94, 99, 92, 98, 113, 104...  \\\n",
       "1  Swizzor.gen!I  [[104, 104, 92, 95, 89, 85, 88, 99, 89, 100, 9...   \n",
       "2  Swizzor.gen!I  [[104, 86, 84, 89, 103, 94, 118, 110, 109, 105...   \n",
       "3  Swizzor.gen!I  [[107, 101, 97, 93, 99, 92, 92, 83, 90, 91, 80...   \n",
       "4  Swizzor.gen!I  [[92, 92, 77, 63, 76, 76, 79, 88, 94, 100, 89,...   \n",
       "\n",
       "                                   Name  Family_cat  \n",
       "0  08a62d426b935575116ebb121d0e317a.png         0.0  \n",
       "1  070bedcb9eab0c49867fcb70a4d1ddbf.png         0.0  \n",
       "2  0757a054287b442f97ea305706d9e07d.png         0.0  \n",
       "3  03e44bfcc48724222558c4c09c8a025f.png         0.0  \n",
       "4  04280e457fadccc4a239f2d3208f8609.png         0.0  "
      ]
     },
     "execution_count": 44,
     "metadata": {},
     "output_type": "execute_result"
    }
   ],
   "source": [
    "# crea un dataframe a partir de las carpetas dentro de \"malimg_dataset\" y sus archivos .bytes\n",
    "df = pd.DataFrame(columns=['Family', 'Image'])\n",
    "fam_cat = {}\n",
    "for i, family in enumerate(os.listdir('malimg_dataset')):\n",
    "    fam_cat[i] = family\n",
    "    for image in os.listdir(f'malimg_dataset/{family}'):\n",
    "        imagen = Image.open(f'malimg_dataset/{family}/{image}')\n",
    "        imagen = imagen.resize((64,64))\n",
    "        new_data = {'Family': [family], 'Name': [image], 'Family_cat': [i], 'Image': [np.array(imagen).tolist()]}\n",
    "        new_df = pd.DataFrame(new_data)\n",
    "        df = pd.concat([df, new_df], ignore_index=True)\n",
    "# muestra las primeras 5 filas del dataframe\n",
    "df.head()"
   ]
  },
  {
   "cell_type": "code",
   "execution_count": 45,
   "metadata": {},
   "outputs": [
    {
     "data": {
      "text/plain": [
       "Family\n",
       "Allaple.A         2949\n",
       "Allaple.L         1591\n",
       "Yuner.A            800\n",
       "Instantaccess      431\n",
       "VB.AT              408\n",
       "Fakerean           381\n",
       "Lolyda.AA1         213\n",
       "C2LOP.gen!g        200\n",
       "Alueron.gen!J      198\n",
       "Lolyda.AA2         184\n",
       "Dialplatform.B     177\n",
       "Dontovo.A          162\n",
       "Lolyda.AT          159\n",
       "Rbot!gen           158\n",
       "Name: count, dtype: int64"
      ]
     },
     "execution_count": 45,
     "metadata": {},
     "output_type": "execute_result"
    }
   ],
   "source": [
    "# removemos las familias con menos de 150 muestras del dataset\n",
    "df = df[df['Family'].isin(df['Family'].value_counts()[df['Family'].value_counts() > 150].index)]\n",
    "df.value_counts('Family')"
   ]
  },
  {
   "cell_type": "code",
   "execution_count": 46,
   "metadata": {},
   "outputs": [],
   "source": [
    "# use on the the last 20% of the dataset\n",
    "df = df.iloc[int(len(df)*0.8):]"
   ]
  },
  {
   "cell_type": "code",
   "execution_count": 47,
   "metadata": {},
   "outputs": [
    {
     "data": {
      "text/plain": [
       "array([[[ 62,  39,  38, ...,  20,   8,   5],\n",
       "        [102, 113, 119, ...,  75,  85, 100],\n",
       "        [158, 149, 168, ..., 149, 125, 107],\n",
       "        ...,\n",
       "        [109, 121, 170, ..., 139, 132, 150],\n",
       "        [117, 130, 154, ..., 133, 168, 140],\n",
       "        [147, 154, 121, ..., 135,  89, 114]],\n",
       "\n",
       "       [[ 49,  41,  39, ...,  22,   8,   4],\n",
       "        [ 96, 110,  63, ..., 105, 129,  99],\n",
       "        [106, 107,  56, ..., 126, 164, 113],\n",
       "        ...,\n",
       "        [ 97, 129, 142, ..., 117, 128, 112],\n",
       "        [157, 142, 120, ..., 155, 149, 151],\n",
       "        [111, 116, 135, ..., 103, 118, 130]],\n",
       "\n",
       "       [[ 28,  28,  33, ...,  19,   8,   6],\n",
       "        [ 96, 118, 153, ..., 111,  91, 122],\n",
       "        [148, 134, 121, ..., 148, 113, 162],\n",
       "        ...,\n",
       "        [140, 123, 106, ..., 125, 110, 126],\n",
       "        [111, 110,  85, ..., 126, 141, 123],\n",
       "        [ 91, 117, 125, ..., 107, 130, 150]],\n",
       "\n",
       "       ...,\n",
       "\n",
       "       [[ 51,  36,  25, ...,  19,   9,   3],\n",
       "        [ 82, 121, 109, ...,  96, 104, 103],\n",
       "        [141, 145, 163, ..., 150, 122, 126],\n",
       "        ...,\n",
       "        [117, 135, 133, ..., 149, 121, 125],\n",
       "        [126, 107, 135, ..., 121, 129, 132],\n",
       "        [133, 127, 158, ..., 124, 138, 140]],\n",
       "\n",
       "       [[ 18,   6,  11, ...,   8,  19,  10],\n",
       "        [  0,   0,   0, ...,   0,   0,   0],\n",
       "        [ 36,  20,  16, ...,  30,  20,  11],\n",
       "        ...,\n",
       "        [ 36,  35,  34, ...,  47,  36,  28],\n",
       "        [  3,   4,   3, ...,   1,   0,   0],\n",
       "        [  0,   0,   0, ...,   0,   0,   0]],\n",
       "\n",
       "       [[ 50,  30,  18, ...,  21,   9,   0],\n",
       "        [104,  93, 105, ..., 130, 111, 104],\n",
       "        [124, 138, 115, ..., 149, 137, 122],\n",
       "        ...,\n",
       "        [127, 118, 116, ..., 108, 104, 129],\n",
       "        [133, 137, 138, ..., 104, 149, 146],\n",
       "        [121, 118, 137, ..., 117, 111, 126]]])"
      ]
     },
     "execution_count": 47,
     "metadata": {},
     "output_type": "execute_result"
    }
   ],
   "source": [
    "#Dividir el dataset\n",
    "from sklearn.model_selection import train_test_split\n",
    "X = df['Image'].values\n",
    "y = df['Family_cat'].values\n",
    "#convert X to numpy array and inside with simple list\n",
    "X = np.array([np.array(xi) for xi in X])\n",
    "\n",
    "X_train, X_test, y_train, y_test = train_test_split(X, y, test_size=0.2, random_state=42)\n",
    "\n",
    "#Normalizar los datos\n",
    "X_train"
   ]
  },
  {
   "cell_type": "code",
   "execution_count": 48,
   "metadata": {},
   "outputs": [],
   "source": [
    "#Normalizar los datos\n",
    "X_train = X_train/255\n",
    "X_test = X_test/255"
   ]
  },
  {
   "cell_type": "code",
   "execution_count": 49,
   "metadata": {},
   "outputs": [
    {
     "data": {
      "text/plain": [
       "0.7215686274509804"
      ]
     },
     "execution_count": 49,
     "metadata": {},
     "output_type": "execute_result"
    },
    {
     "data": {
      "image/png": "[encoded data removed]",
      "text/plain": [
       "<Figure size 640x480 with 1 Axes>"
      ]
     },
     "metadata": {},
     "output_type": "display_data"
    }
   ],
   "source": [
    "#Mostrar una imagen\n",
    "plt.imshow(X_train[0])\n",
    "#mostrar la normalizacion\n",
    "X_train[0].max()"
   ]
  },
  {
   "cell_type": "code",
   "execution_count": 50,
   "metadata": {},
   "outputs": [
    {
     "name": "stdout",
     "output_type": "stream",
     "text": [
      "(1282, 64, 64) (321, 64, 64)\n"
     ]
    }
   ],
   "source": [
    "print(X_train.shape, X_test.shape)"
   ]
  },
  {
   "cell_type": "code",
   "execution_count": 51,
   "metadata": {},
   "outputs": [],
   "source": [
    "X_train = X_train.reshape(1282, 64, 64, 1)\n",
    "X_test = X_test.reshape(321, 64, 64, 1)"
   ]
  },
  {
   "cell_type": "code",
   "execution_count": 52,
   "metadata": {},
   "outputs": [],
   "source": [
    "from tensorflow.keras.utils import to_categorical\n",
    "categorical_y_entrenamiento = to_categorical(y_train, 25)\n",
    "categorical_y_test = to_categorical(y_test, 25)"
   ]
  },
  {
   "attachments": {},
   "cell_type": "markdown",
   "metadata": {},
   "source": [
    "# Ataque de extraccion"
   ]
  },
  {
   "cell_type": "code",
   "execution_count": 53,
   "metadata": {},
   "outputs": [],
   "source": [
    "clasificador = KerasClassifier(\n",
    "    model=model1,\n",
    "    clip_values=(0.0, 1.0))"
   ]
  },
  {
   "cell_type": "code",
   "execution_count": 54,
   "metadata": {},
   "outputs": [
    {
     "name": "stderr",
     "output_type": "stream",
     "text": [
      "/Users/sebastiangarcia/Documents/GitHub/Lab8-SecDS/venv/lib/python3.10/site-packages/art/estimators/certification/__init__.py:14: UserWarning: PyTorch not found. Not importing DeepZ or Interval Bound Propagation functionality\n",
      "  warnings.warn(\"PyTorch not found. Not importing DeepZ or Interval Bound Propagation functionality\")\n"
     ]
    }
   ],
   "source": [
    "from art.attacks.extraction import CopycatCNN\n",
    "# Creating the \"neural net thief\" object\n",
    "# that will steal the original classifier\n",
    "copycat_cnn = CopycatCNN(\n",
    "    batch_size_fit=256,\n",
    "    batch_size_query=256,\n",
    "    nb_epochs=20,\n",
    "    nb_stolen=20000,\n",
    "    classifier=clasificador\n",
    "    )"
   ]
  },
  {
   "cell_type": "code",
   "execution_count": 55,
   "metadata": {},
   "outputs": [],
   "source": [
    "from tensorflow.keras.models import Sequential\n",
    "from tensorflow.keras.layers import Dense, Conv2D, MaxPool2D, Flatten\n",
    "modelo_stole = Sequential()\n",
    "modelo_stole.add(Conv2D(filters = 32, kernel_size = (4, 4), input_shape = (64, 64, 1), activation = 'relu'))\n",
    "modelo_stole.add(MaxPool2D(pool_size = (2, 2)))\n",
    "modelo_stole.add(Flatten())\n",
    "modelo_stole.add(Dense(128, activation = 'relu'))\n",
    "modelo_stole.add(Dense(25, activation = 'softmax'))\n",
    "modelo_stole.compile(loss = 'categorical_crossentropy',optimizer = 'rmsprop',metrics = ['accuracy'])\n",
    "\n",
    "model_stolen = KerasClassifier(\n",
    "    model=modelo_stole, \n",
    "    clip_values=(0.0,1.0)\n",
    "    )"
   ]
  },
  {
   "cell_type": "code",
   "execution_count": 56,
   "metadata": {},
   "outputs": [
    {
     "name": "stderr",
     "output_type": "stream",
     "text": [
      "This attack does not use the provided label y.\n",
      "The size of the source input is smaller than the expected number of queries submitted to the victim classifier.\n",
      "/Users/sebastiangarcia/Documents/GitHub/Lab8-SecDS/venv/lib/python3.10/site-packages/keras/engine/training_v1.py:2359: UserWarning: `Model.state_updates` will be removed in a future version. This property should not be used in TensorFlow 2.0, as `updates` are applied automatically.\n",
      "  updates=self.state_updates,\n",
      "2023-05-23 23:13:33.727654: W tensorflow/c/c_api.cc:300] Operation '{name:'dense_1_2/Softmax' id:753 op device:{requested: '', assigned: ''} def:{{{node dense_1_2/Softmax}} = Softmax[T=DT_FLOAT, _has_manual_control_dependencies=true](dense_1_2/BiasAdd)}}' was changed by setting attribute after it was run by a session. This mutation will have no effect, and will trigger an error in the future. Either don't modify nodes after running them or create a new session.\n",
      "2023-05-23 23:13:33.772754: W tensorflow/c/c_api.cc:300] Operation '{name:'dense_1_3/kernel/Assign' id:981 op device:{requested: '', assigned: ''} def:{{{node dense_1_3/kernel/Assign}} = AssignVariableOp[_has_manual_control_dependencies=true, dtype=DT_FLOAT, validate_shape=false](dense_1_3/kernel, dense_1_3/kernel/Initializer/stateless_random_uniform)}}' was changed by setting attribute after it was run by a session. This mutation will have no effect, and will trigger an error in the future. Either don't modify nodes after running them or create a new session.\n"
     ]
    },
    {
     "name": "stdout",
     "output_type": "stream",
     "text": [
      "Train on 1282 samples\n",
      "Epoch 1/20\n"
     ]
    },
    {
     "name": "stderr",
     "output_type": "stream",
     "text": [
      "2023-05-23 23:13:34.127467: W tensorflow/c/c_api.cc:300] Operation '{name:'loss_3/mul' id:1068 op device:{requested: '', assigned: ''} def:{{{node loss_3/mul}} = Mul[T=DT_FLOAT, _has_manual_control_dependencies=true](loss_3/mul/x, loss_3/dense_1_loss/value)}}' was changed by setting attribute after it was run by a session. This mutation will have no effect, and will trigger an error in the future. Either don't modify nodes after running them or create a new session.\n",
      "2023-05-23 23:13:34.165029: W tensorflow/c/c_api.cc:300] Operation '{name:'training/RMSprop/dense_1_3/kernel/rms/Assign' id:1258 op device:{requested: '', assigned: ''} def:{{{node training/RMSprop/dense_1_3/kernel/rms/Assign}} = AssignVariableOp[_has_manual_control_dependencies=true, dtype=DT_FLOAT, validate_shape=false](training/RMSprop/dense_1_3/kernel/rms, training/RMSprop/dense_1_3/kernel/rms/Initializer/zeros)}}' was changed by setting attribute after it was run by a session. This mutation will have no effect, and will trigger an error in the future. Either don't modify nodes after running them or create a new session.\n"
     ]
    },
    {
     "name": "stdout",
     "output_type": "stream",
     "text": [
      "1282/1282 [==============================] - 1s 400us/sample - loss: 2.0542 - accuracy: 0.5265\n",
      "Epoch 2/20\n",
      "1282/1282 [==============================] - 0s 277us/sample - loss: 0.4636 - accuracy: 0.8900\n",
      "Epoch 3/20\n",
      "1282/1282 [==============================] - 0s 299us/sample - loss: 0.2676 - accuracy: 0.9204\n",
      "Epoch 4/20\n",
      "1282/1282 [==============================] - 0s 350us/sample - loss: 0.1694 - accuracy: 0.9493\n",
      "Epoch 5/20\n",
      "1282/1282 [==============================] - 0s 321us/sample - loss: 0.1479 - accuracy: 0.9423\n",
      "Epoch 6/20\n",
      "1282/1282 [==============================] - 0s 290us/sample - loss: 0.1464 - accuracy: 0.9454\n",
      "Epoch 7/20\n",
      "1282/1282 [==============================] - 0s 366us/sample - loss: 0.1334 - accuracy: 0.9563\n",
      "Epoch 8/20\n",
      "1282/1282 [==============================] - 0s 332us/sample - loss: 0.1199 - accuracy: 0.9509\n",
      "Epoch 9/20\n",
      "1282/1282 [==============================] - 0s 319us/sample - loss: 0.1245 - accuracy: 0.9501\n",
      "Epoch 10/20\n",
      "1282/1282 [==============================] - 0s 332us/sample - loss: 0.0956 - accuracy: 0.9610\n",
      "Epoch 11/20\n",
      "1282/1282 [==============================] - 0s 285us/sample - loss: 0.1238 - accuracy: 0.9548\n",
      "Epoch 12/20\n",
      "1282/1282 [==============================] - 0s 279us/sample - loss: 0.0886 - accuracy: 0.9571\n",
      "Epoch 13/20\n",
      "1282/1282 [==============================] - 0s 304us/sample - loss: 0.0797 - accuracy: 0.9719\n",
      "Epoch 14/20\n",
      "1282/1282 [==============================] - 0s 321us/sample - loss: 0.0780 - accuracy: 0.9704\n",
      "Epoch 15/20\n",
      "1282/1282 [==============================] - 0s 313us/sample - loss: 0.0823 - accuracy: 0.9657\n",
      "Epoch 16/20\n",
      "1282/1282 [==============================] - 0s 305us/sample - loss: 0.0894 - accuracy: 0.9602\n",
      "Epoch 17/20\n",
      "1282/1282 [==============================] - 0s 303us/sample - loss: 0.0726 - accuracy: 0.9711\n",
      "Epoch 18/20\n",
      "1282/1282 [==============================] - 0s 304us/sample - loss: 0.0507 - accuracy: 0.9836\n",
      "Epoch 19/20\n",
      "1282/1282 [==============================] - 0s 301us/sample - loss: 0.0672 - accuracy: 0.9641\n",
      "Epoch 20/20\n",
      "1282/1282 [==============================] - 0s 324us/sample - loss: 0.0612 - accuracy: 0.9750\n"
     ]
    }
   ],
   "source": [
    "# Extracting a thieved classifier\n",
    "# by training the reference model\n",
    "stolen_classifier = copycat_cnn.extract(\n",
    "    x=X_train, \n",
    "    y=y_train, \n",
    "    thieved_classifier=model_stolen\n",
    "    )"
   ]
  },
  {
   "cell_type": "code",
   "execution_count": 57,
   "metadata": {},
   "outputs": [
    {
     "name": "stdout",
     "output_type": "stream",
     "text": [
      "Original test loss: 2.66 vs stolen test loss: 1.34\n",
      "Original test accuracy: 0.89 vs stolen test accuracy: 0.89\n"
     ]
    },
    {
     "name": "stderr",
     "output_type": "stream",
     "text": [
      "/Users/sebastiangarcia/Documents/GitHub/Lab8-SecDS/venv/lib/python3.10/site-packages/keras/engine/training_v1.py:2335: UserWarning: `Model.state_updates` will be removed in a future version. This property should not be used in TensorFlow 2.0, as `updates` are applied automatically.\n",
      "  updates = self.state_updates\n",
      "2023-05-23 23:13:42.389690: W tensorflow/c/c_api.cc:300] Operation '{name:'loss_2/mul' id:829 op device:{requested: '', assigned: ''} def:{{{node loss_2/mul}} = Mul[T=DT_FLOAT, _has_manual_control_dependencies=true](loss_2/mul/x, loss_2/dense_1_loss/value)}}' was changed by setting attribute after it was run by a session. This mutation will have no effect, and will trigger an error in the future. Either don't modify nodes after running them or create a new session.\n",
      "2023-05-23 23:13:42.480851: W tensorflow/c/c_api.cc:300] Operation '{name:'loss_3/mul' id:1068 op device:{requested: '', assigned: ''} def:{{{node loss_3/mul}} = Mul[T=DT_FLOAT, _has_manual_control_dependencies=true](loss_3/mul/x, loss_3/dense_1_loss/value)}}' was changed by setting attribute after it was run by a session. This mutation will have no effect, and will trigger an error in the future. Either don't modify nodes after running them or create a new session.\n"
     ]
    }
   ],
   "source": [
    "# Testing the performance of the original classifier\n",
    "score_original = clasificador._model.evaluate(\n",
    "    x=X_test, \n",
    "    y=categorical_y_test\n",
    "    )\n",
    "\n",
    "# Testing the performance of the stolen classifier\n",
    "score_stolen = stolen_classifier._model.evaluate(\n",
    "    x=X_test, \n",
    "    y=categorical_y_test\n",
    "    )\n",
    "\n",
    "# Comparing test losses\n",
    "print(f\"Original test loss: {score_original[0]:.2f} \" \n",
    "      f\"vs stolen test loss: {score_stolen[0]:.2f}\")\n",
    "\n",
    "# Comparing test accuracies\n",
    "print(f\"Original test accuracy: {score_original[1]:.2f} \" \n",
    "      f\"vs stolen test accuracy: {score_stolen[1]:.2f}\")"
   ]
  },
  {
   "attachments": {},
   "cell_type": "markdown",
   "metadata": {},
   "source": [
    "# Defensa de extraccion"
   ]
  },
  {
   "cell_type": "code",
   "execution_count": 64,
   "metadata": {},
   "outputs": [
    {
     "name": "stderr",
     "output_type": "stream",
     "text": [
      "This attack does not use the provided label y.\n",
      "The size of the source input is smaller than the expected number of queries submitted to the victim classifier.\n",
      "2023-05-23 23:26:00.991116: W tensorflow/c/c_api.cc:300] Operation '{name:'total_16/Assign' id:4196 op device:{requested: '', assigned: ''} def:{{{node total_16/Assign}} = AssignVariableOp[_has_manual_control_dependencies=true, dtype=DT_FLOAT, validate_shape=false](total_16, total_16/Initializer/zeros)}}' was changed by setting attribute after it was run by a session. This mutation will have no effect, and will trigger an error in the future. Either don't modify nodes after running them or create a new session.\n"
     ]
    },
    {
     "name": "stdout",
     "output_type": "stream",
     "text": [
      "Train on 1282 samples\n",
      "Epoch 1/20\n"
     ]
    },
    {
     "name": "stderr",
     "output_type": "stream",
     "text": [
      "2023-05-23 23:26:01.327075: W tensorflow/c/c_api.cc:300] Operation '{name:'loss_10/mul' id:4267 op device:{requested: '', assigned: ''} def:{{{node loss_10/mul}} = Mul[T=DT_FLOAT, _has_manual_control_dependencies=true](loss_10/mul/x, loss_10/dense_15_loss/value)}}' was changed by setting attribute after it was run by a session. This mutation will have no effect, and will trigger an error in the future. Either don't modify nodes after running them or create a new session.\n",
      "2023-05-23 23:26:01.401670: W tensorflow/c/c_api.cc:300] Operation '{name:'training_8/RMSprop/iter/Assign' id:4407 op device:{requested: '', assigned: ''} def:{{{node training_8/RMSprop/iter/Assign}} = AssignVariableOp[_has_manual_control_dependencies=true, dtype=DT_INT64, validate_shape=false](training_8/RMSprop/iter, training_8/RMSprop/iter/Initializer/zeros)}}' was changed by setting attribute after it was run by a session. This mutation will have no effect, and will trigger an error in the future. Either don't modify nodes after running them or create a new session.\n"
     ]
    },
    {
     "name": "stdout",
     "output_type": "stream",
     "text": [
      "1282/1282 [==============================] - 1s 394us/sample - loss: 1.5036 - accuracy: 0.6997\n",
      "Epoch 2/20\n",
      "1282/1282 [==============================] - 0s 300us/sample - loss: 0.4983 - accuracy: 0.9017\n",
      "Epoch 3/20\n",
      "1282/1282 [==============================] - 0s 297us/sample - loss: 0.2310 - accuracy: 0.9384\n",
      "Epoch 4/20\n",
      "1282/1282 [==============================] - 0s 313us/sample - loss: 0.1884 - accuracy: 0.9431\n",
      "Epoch 5/20\n",
      "1282/1282 [==============================] - 0s 286us/sample - loss: 0.1828 - accuracy: 0.9431\n",
      "Epoch 6/20\n",
      "1282/1282 [==============================] - 0s 308us/sample - loss: 0.1550 - accuracy: 0.9446\n",
      "Epoch 7/20\n",
      "1282/1282 [==============================] - 0s 280us/sample - loss: 0.2264 - accuracy: 0.9321\n",
      "Epoch 8/20\n",
      "1282/1282 [==============================] - 0s 284us/sample - loss: 0.1342 - accuracy: 0.9501\n",
      "Epoch 9/20\n",
      "1282/1282 [==============================] - 0s 289us/sample - loss: 0.1238 - accuracy: 0.9587\n",
      "Epoch 10/20\n",
      "1282/1282 [==============================] - 0s 302us/sample - loss: 0.1182 - accuracy: 0.9516\n",
      "Epoch 11/20\n",
      "1282/1282 [==============================] - 0s 314us/sample - loss: 0.1088 - accuracy: 0.9602\n",
      "Epoch 12/20\n",
      "1282/1282 [==============================] - 0s 297us/sample - loss: 0.1155 - accuracy: 0.9532\n",
      "Epoch 13/20\n",
      "1282/1282 [==============================] - 0s 305us/sample - loss: 0.1047 - accuracy: 0.9579\n",
      "Epoch 14/20\n",
      "1282/1282 [==============================] - 0s 285us/sample - loss: 0.0996 - accuracy: 0.9579\n",
      "Epoch 15/20\n",
      "1282/1282 [==============================] - 0s 283us/sample - loss: 0.1691 - accuracy: 0.9446\n",
      "Epoch 16/20\n",
      "1282/1282 [==============================] - 0s 305us/sample - loss: 0.0812 - accuracy: 0.9618\n",
      "Epoch 17/20\n",
      "1282/1282 [==============================] - 0s 316us/sample - loss: 0.0805 - accuracy: 0.9696\n",
      "Epoch 18/20\n",
      "1282/1282 [==============================] - 0s 324us/sample - loss: 0.0861 - accuracy: 0.9594\n",
      "Epoch 19/20\n",
      "1282/1282 [==============================] - 0s 297us/sample - loss: 0.0738 - accuracy: 0.9704\n",
      "Epoch 20/20\n",
      "1282/1282 [==============================] - 0s 322us/sample - loss: 0.0670 - accuracy: 0.9758\n",
      "Original test loss: 2.66 vs stolen test loss: 1.63\n",
      "Original test accuracy: 0.89 vs stolen test accuracy: 0.89\n"
     ]
    },
    {
     "name": "stderr",
     "output_type": "stream",
     "text": [
      "2023-05-23 23:26:09.422375: W tensorflow/c/c_api.cc:300] Operation '{name:'loss_10/mul' id:4267 op device:{requested: '', assigned: ''} def:{{{node loss_10/mul}} = Mul[T=DT_FLOAT, _has_manual_control_dependencies=true](loss_10/mul/x, loss_10/dense_15_loss/value)}}' was changed by setting attribute after it was run by a session. This mutation will have no effect, and will trigger an error in the future. Either don't modify nodes after running them or create a new session.\n"
     ]
    }
   ],
   "source": [
    "from art.defences.postprocessor import ReverseSigmoid\n",
    "post_processor = ReverseSigmoid(\n",
    "  beta=1.0,\n",
    "  gamma=0.2\n",
    ")\n",
    "\n",
    "classifier_def = KerasClassifier(\n",
    "  model=model1,\n",
    "  postprocessing_defences=post_processor,\n",
    ")\n",
    "from tensorflow.keras.models import Sequential\n",
    "from tensorflow.keras.layers import Dense, Conv2D, MaxPool2D, Flatten\n",
    "modelo_stole = Sequential()\n",
    "modelo_stole.add(Conv2D(filters = 32, kernel_size = (4, 4), input_shape = (64, 64, 1), activation = 'relu'))\n",
    "modelo_stole.add(MaxPool2D(pool_size = (2, 2)))\n",
    "modelo_stole.add(Flatten())\n",
    "modelo_stole.add(Dense(128, activation = 'relu'))\n",
    "modelo_stole.add(Dense(25, activation = 'softmax'))\n",
    "modelo_stole.compile(loss = 'categorical_crossentropy',optimizer = 'rmsprop',metrics = ['accuracy'])\n",
    "\n",
    "model_stolen = KerasClassifier(\n",
    "    model=modelo_stole, \n",
    "    clip_values=(0.0,1.0)\n",
    "    )\n",
    "\n",
    "copycat_cnn_def = CopycatCNN(\n",
    "    batch_size_fit=256,\n",
    "    batch_size_query=256,\n",
    "    nb_epochs=20,\n",
    "    nb_stolen=20000,\n",
    "    classifier=clasificador\n",
    ")\n",
    "\n",
    "stolen_classifier_def = copycat_cnn_def.extract(\n",
    "  x=X_train, \n",
    "  y=y_train, \n",
    "  thieved_classifier=model_stolen\n",
    ")\n",
    "score_original = classifier_def._model.evaluate(\n",
    "  x=X_test,\n",
    "  y=categorical_y_test\n",
    ")\n",
    "\n",
    "score_stolen = stolen_classifier_def._model.evaluate(\n",
    "  x=X_test,\n",
    "  y=categorical_y_test\n",
    ")\n",
    "\n",
    "# Comparing test losses\n",
    "print(f\"Original test loss: {score_original[0]:.2f} \" \n",
    "      f\"vs stolen test loss: {score_stolen[0]:.2f}\")\n",
    "\n",
    "# Comparing test accuracies\n",
    "print(f\"Original test accuracy: {score_original[1]:.2f} \" \n",
    "      f\"vs stolen test accuracy: {score_stolen[1]:.2f}\")"
   ]
  }
 ],
 "metadata": {
  "kernelspec": {
   "display_name": "venv",
   "language": "python",
   "name": "python3"
  },
  "language_info": {
   "codemirror_mode": {
    "name": "ipython",
    "version": 3
   },
   "file_extension": ".py",
   "mimetype": "text/x-python",
   "name": "python",
   "nbconvert_exporter": "python",
   "pygments_lexer": "ipython3",
   "version": "3.10.4"
  },
  "orig_nbformat": 4,
  "vscode": {
   "interpreter": {
    "hash": "a1e8499a6dd5fe6994d090b4108ebf1c9f21aa3f0dcb0dbca4e4bedbd5735e77"
   }
  }
 },
 "nbformat": 4,
 "nbformat_minor": 2
}
